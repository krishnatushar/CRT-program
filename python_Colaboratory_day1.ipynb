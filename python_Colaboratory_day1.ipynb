{
  "nbformat": 4,
  "nbformat_minor": 0,
  "metadata": {
    "colab": {
      "name": "python Colaboratory day1",
      "provenance": [],
      "collapsed_sections": [],
      "toc_visible": true,
      "include_colab_link": true
    },
    "kernelspec": {
      "display_name": "Python 3",
      "name": "python3"
    }
  },
  "cells": [
    {
      "cell_type": "markdown",
      "metadata": {
        "id": "view-in-github",
        "colab_type": "text"
      },
      "source": [
        "<a href=\"https://colab.research.google.com/github/krishnatushar/CRT-program/blob/master/python_Colaboratory_day1.ipynb\" target=\"_parent\"><img src=\"https://colab.research.google.com/assets/colab-badge.svg\" alt=\"Open In Colab\"/></a>"
      ]
    },
    {
      "cell_type": "code",
      "metadata": {
        "id": "tuS_F1Qr6TrQ",
        "colab_type": "code",
        "outputId": "fb584ed6-7afd-4466-a254-38aa461bb4a2",
        "colab": {
          "base_uri": "https://localhost:8080/",
          "height": 34
        }
      },
      "source": [
        "print(\"welcome to python programming\")"
      ],
      "execution_count": 0,
      "outputs": [
        {
          "output_type": "stream",
          "text": [
            "welcome to python programming\n"
          ],
          "name": "stdout"
        }
      ]
    },
    {
      "cell_type": "code",
      "metadata": {
        "id": "bqVMmaRg6xUw",
        "colab_type": "code",
        "outputId": "d7ce4ac2-1aeb-4e6f-fef5-e0106a2f8fed",
        "colab": {
          "base_uri": "https://localhost:8080/",
          "height": 51
        }
      },
      "source": [
        "x=198273829463287643298\n",
        "print(x)\n",
        "print(type(x))"
      ],
      "execution_count": 0,
      "outputs": [
        {
          "output_type": "stream",
          "text": [
            "198273829463287643298\n",
            "<class 'int'>\n"
          ],
          "name": "stdout"
        }
      ]
    },
    {
      "cell_type": "code",
      "metadata": {
        "id": "oXcTG63UC6Jj",
        "colab_type": "code",
        "outputId": "fdd04865-6523-4399-f4fe-5c5f5297379e",
        "colab": {
          "base_uri": "https://localhost:8080/",
          "height": 51
        }
      },
      "source": [
        "x=112.3\n",
        "y=\"tushar\"\n",
        "print(type(y))\n",
        "print(type(x))"
      ],
      "execution_count": 0,
      "outputs": [
        {
          "output_type": "stream",
          "text": [
            "<class 'str'>\n",
            "<class 'float'>\n"
          ],
          "name": "stdout"
        }
      ]
    },
    {
      "cell_type": "markdown",
      "metadata": {
        "id": "Y1SO1P6jI8rP",
        "colab_type": "text"
      },
      "source": [
        "#Data types of python programming\n",
        "### class-int ,float , str"
      ]
    },
    {
      "cell_type": "code",
      "metadata": {
        "id": "thsJnJcYEjIK",
        "colab_type": "code",
        "outputId": "39c5f295-ccce-4d78-da2c-42e057d4bc18",
        "colab": {
          "base_uri": "https://localhost:8080/",
          "height": 85
        }
      },
      "source": [
        "\n",
        "s=\"welcome to python programming\"\n",
        "s1=\"application\"\n",
        "print(s)\n",
        "print(s1)\n",
        "print(type(s))\n",
        "print(type(s1))"
      ],
      "execution_count": 0,
      "outputs": [
        {
          "output_type": "stream",
          "text": [
            "welcome to python programming\n",
            "application\n",
            "<class 'str'>\n",
            "<class 'str'>\n"
          ],
          "name": "stdout"
        }
      ]
    },
    {
      "cell_type": "markdown",
      "metadata": {
        "id": "pltGEz6XHUsP",
        "colab_type": "text"
      },
      "source": [
        "# Datatype conversion\n",
        "## -int()\n",
        "### int() converts the input into int class\n",
        "## -str()\n",
        "### str() converts the input into str class\n",
        "## float()\n",
        "### float() converts the input into float class"
      ]
    },
    {
      "cell_type": "code",
      "metadata": {
        "id": "m-AGTVnbFrBj",
        "colab_type": "code",
        "outputId": "d9e37a60-b4d0-4e16-d3b0-709ad4323a8d",
        "colab": {
          "base_uri": "https://localhost:8080/",
          "height": 68
        }
      },
      "source": [
        "#DATA TYPE CONVERSION\n",
        "x=\"24.76656565\"\n",
        "print(x,end=' ')\n",
        "print(type(x))\n",
        "y=float(x)\n",
        "print(y,end=' ')\n",
        "print(type(y))\n",
        "z=int(y)\n",
        "print(z,end= ' ')\n",
        "print(type(z))"
      ],
      "execution_count": 0,
      "outputs": [
        {
          "output_type": "stream",
          "text": [
            "24.76656565 <class 'str'>\n",
            "24.76656565 <class 'float'>\n",
            "24 <class 'int'>\n"
          ],
          "name": "stdout"
        }
      ]
    },
    {
      "cell_type": "markdown",
      "metadata": {
        "id": "Ex3U-3siKJOa",
        "colab_type": "text"
      },
      "source": [
        "# Input methods of python\n",
        " * input() reads the input in terms of string type\n",
        " * use the conversion methods to convert into respective type \n",
        " \n",
        " \n"
      ]
    },
    {
      "cell_type": "code",
      "metadata": {
        "id": "-GszZerNODa-",
        "colab_type": "code",
        "outputId": "695a6613-58ba-439a-f16a-07bfad91df3e",
        "colab": {
          "base_uri": "https://localhost:8080/",
          "height": 51
        }
      },
      "source": [
        "s=input (\"enter your name\")\n",
        "print(s, end=' ')\n",
        "print(type(s))"
      ],
      "execution_count": 0,
      "outputs": [
        {
          "output_type": "stream",
          "text": [
            "enter your name 43\n",
            " 43 <class 'str'>\n"
          ],
          "name": "stdout"
        }
      ]
    },
    {
      "cell_type": "code",
      "metadata": {
        "id": "m0xjaRuDOTkL",
        "colab_type": "code",
        "outputId": "7872a532-5171-440a-c030-b60f5a9c0339",
        "colab": {
          "base_uri": "https://localhost:8080/",
          "height": 51
        }
      },
      "source": [
        "a=int(input('enter your name'))\n",
        "print(a,end=' ')\n",
        "print(type(a))"
      ],
      "execution_count": 0,
      "outputs": [
        {
          "output_type": "stream",
          "text": [
            "enter your name76\n",
            "76 <class 'int'>\n"
          ],
          "name": "stdout"
        }
      ]
    },
    {
      "cell_type": "code",
      "metadata": {
        "id": "qPT-gw-VOdAh",
        "colab_type": "code",
        "outputId": "f8dd1fc7-d817-452a-f5d3-4a6e222fe341",
        "colab": {
          "base_uri": "https://localhost:8080/",
          "height": 51
        }
      },
      "source": [
        "b=float(input('enter your name'))\n",
        "print(b,end=' ')\n",
        "print(type(b))"
      ],
      "execution_count": 0,
      "outputs": [
        {
          "output_type": "stream",
          "text": [
            "enter your name76\n",
            "76.0 <class 'float'>\n"
          ],
          "name": "stdout"
        }
      ]
    },
    {
      "cell_type": "markdown",
      "metadata": {
        "id": "dwCd0jHdQZNX",
        "colab_type": "text"
      },
      "source": [
        "#Control flow statements\n",
        "- Conditional statements\n",
        " - if else\n",
        "- Looping statements\n",
        " - while\n",
        " - for\n",
        "\n",
        "\n"
      ]
    },
    {
      "cell_type": "code",
      "metadata": {
        "id": "K_mIHJBsPCxD",
        "colab_type": "code",
        "outputId": "b352c5e7-1a9b-4701-92fb-2de271e501f2",
        "colab": {
          "base_uri": "https://localhost:8080/",
          "height": 51
        }
      },
      "source": [
        "a=int(input('enter the number'))\n",
        "if a%2==0: \n",
        "  print(\"even\")\n",
        "else:\n",
        "  print(\"odd\")  "
      ],
      "execution_count": 0,
      "outputs": [
        {
          "output_type": "stream",
          "text": [
            "enter the number 76\n",
            "even\n"
          ],
          "name": "stdout"
        }
      ]
    },
    {
      "cell_type": "code",
      "metadata": {
        "id": "WMYSyj1VP2hZ",
        "colab_type": "code",
        "outputId": "94d78526-50fe-49d7-ca6c-c70d4ac594ba",
        "colab": {
          "base_uri": "https://localhost:8080/",
          "height": 51
        }
      },
      "source": [
        "age=int(input('enter the age'))\n",
        "if age>=18 and age<=85:\n",
        "    print(\"he or she is eligible for voting\")\n",
        "else:\n",
        "  print(\"not eligible for voting\")    "
      ],
      "execution_count": 0,
      "outputs": [
        {
          "output_type": "stream",
          "text": [
            "enter the age 88\n",
            "not eligible for voting\n"
          ],
          "name": "stdout"
        }
      ]
    },
    {
      "cell_type": "code",
      "metadata": {
        "id": "BH3U-El-ViER",
        "colab_type": "code",
        "outputId": "c25b9501-d83a-443b-e082-c095720a6044",
        "colab": {
          "base_uri": "https://localhost:8080/",
          "height": 102
        }
      },
      "source": [
        "a=10\n",
        "b=3\n",
        "print(a/b)    # division but output is decimal\n",
        "print(a//b)   # division with int value\n",
        "print(a%b)    # modular division with output as remainder\n",
        "print(a*10)   # multiplication\n",
        "print(a**10)  # power"
      ],
      "execution_count": 0,
      "outputs": [
        {
          "output_type": "stream",
          "text": [
            "3.3333333333333335\n",
            "3\n",
            "1\n",
            "100\n",
            "10000000000\n"
          ],
          "name": "stdout"
        }
      ]
    },
    {
      "cell_type": "markdown",
      "metadata": {
        "id": "gVB5xc5MXnjK",
        "colab_type": "text"
      },
      "source": [
        "#Keywords in python\n",
        "- and ,or , not , True , False"
      ]
    },
    {
      "cell_type": "code",
      "metadata": {
        "id": "XO8CVcaKWT_4",
        "colab_type": "code",
        "outputId": "2f35d302-823e-4fe1-9c62-ccf347fc3e12",
        "colab": {
          "base_uri": "https://localhost:8080/",
          "height": 34
        }
      },
      "source": [
        "if True:\n",
        "  print('hello')\n",
        "else:\n",
        "  print('bye')  "
      ],
      "execution_count": 0,
      "outputs": [
        {
          "output_type": "stream",
          "text": [
            "hello\n"
          ],
          "name": "stdout"
        }
      ]
    },
    {
      "cell_type": "code",
      "metadata": {
        "id": "TfqUuvc4YXHA",
        "colab_type": "code",
        "outputId": "b4c0d14f-2116-4f9c-e42c-75dae331dc99",
        "colab": {
          "base_uri": "https://localhost:8080/",
          "height": 68
        }
      },
      "source": [
        "#READ TWO NUMBERS. IF FIRST NO IS GREATER THAN SECOND, O/P IS SQUARE OF SECOND NO \n",
        "x=int(input('enter the first number'))\n",
        "y=int(input('enter the second number'))\n",
        "if x>y:\n",
        "  print(y*y)\n",
        "else:\n",
        "  print(x*x)  "
      ],
      "execution_count": 0,
      "outputs": [
        {
          "output_type": "stream",
          "text": [
            "enter the first number5\n",
            "enter the second number10\n",
            "25\n"
          ],
          "name": "stdout"
        }
      ]
    },
    {
      "cell_type": "code",
      "metadata": {
        "id": "DuHXm7SEacCr",
        "colab_type": "code",
        "outputId": "6d991e02-4395-4484-d3eb-e7074bf6588e",
        "colab": {
          "base_uri": "https://localhost:8080/",
          "height": 51
        }
      },
      "source": [
        "#READ A NUMBER AS INPUT. GIVE THE OUTPUT AS POSITVE OR NEGATIVE OR ZERO\n",
        "x=int(input('enter the number'))\n",
        "if x<0:\n",
        "  print('the number is negative')\n",
        "elif x>0:\n",
        "  print('the number is positive')\n",
        "elif x==0:\n",
        "  print('the number is zero')    \n"
      ],
      "execution_count": 0,
      "outputs": [
        {
          "output_type": "stream",
          "text": [
            "enter the number -7\n",
            "the number is negative\n"
          ],
          "name": "stdout"
        }
      ]
    },
    {
      "cell_type": "code",
      "metadata": {
        "id": "XhsUBHaJckQn",
        "colab_type": "code",
        "outputId": "23df6e23-f0e6-422d-d465-ffb199c3a7a0",
        "colab": {
          "base_uri": "https://localhost:8080/",
          "height": 34
        }
      },
      "source": [
        "a=10\n",
        "if a>10:\n",
        "  print('good')\n",
        "elif a>20:\n",
        "  print('better')\n",
        "elif a>30:\n",
        "  print('best')\n",
        "else:\n",
        "  print('nothing')"
      ],
      "execution_count": 0,
      "outputs": [
        {
          "output_type": "stream",
          "text": [
            "nothing\n"
          ],
          "name": "stdout"
        }
      ]
    },
    {
      "cell_type": "code",
      "metadata": {
        "id": "iwXVHtOQkfAz",
        "colab_type": "code",
        "outputId": "8844093c-2886-4e86-895a-09ee346ac7ca",
        "colab": {
          "base_uri": "https://localhost:8080/",
          "height": 51
        }
      },
      "source": [
        "#sum of n natural numbers\n",
        "n=int(input('enter the value'))\n",
        "sum=0\n",
        "start=1\n",
        "while start<=n:\n",
        "  sum+=start\n",
        "  start+=1\n",
        "print(sum)  "
      ],
      "execution_count": 0,
      "outputs": [
        {
          "output_type": "stream",
          "text": [
            "enter the value5\n",
            "15\n"
          ],
          "name": "stdout"
        }
      ]
    },
    {
      "cell_type": "code",
      "metadata": {
        "id": "4YC_QK3DfYcy",
        "colab_type": "code",
        "outputId": "69850562-5402-4c13-bb97-2c37905c1e26",
        "colab": {
          "base_uri": "https://localhost:8080/",
          "height": 51
        }
      },
      "source": [
        "#SUM OF N even NUMBERS\n",
        "n=int(input('enter the value'))\n",
        "i=1\n",
        "while i<= n:\n",
        "  if i%2==0:\n",
        "    print(i,end=' ')\n",
        "  i+=1        \n"
      ],
      "execution_count": 0,
      "outputs": [
        {
          "output_type": "stream",
          "text": [
            "enter the value10\n",
            "2 4 6 8 10 "
          ],
          "name": "stdout"
        }
      ]
    },
    {
      "cell_type": "code",
      "metadata": {
        "id": "OxHzgWRveJ9V",
        "colab_type": "code",
        "outputId": "a0ec0d15-fe2b-42f0-9ae1-e52206d85ed3",
        "colab": {
          "base_uri": "https://localhost:8080/",
          "height": 34
        }
      },
      "source": [
        "#print numbers from 1 to 10\n",
        "a=1\n",
        "while a<=10:\n",
        "  print(a,end=' ')\n",
        "  a+=1"
      ],
      "execution_count": 0,
      "outputs": [
        {
          "output_type": "stream",
          "text": [
            "1 2 3 4 5 6 7 8 9 10 "
          ],
          "name": "stdout"
        }
      ]
    },
    {
      "cell_type": "code",
      "metadata": {
        "id": "8XevpL2wlc8r",
        "colab_type": "code",
        "outputId": "5f3f0cf4-4d4b-48b6-d5d1-f47b0f62bb01",
        "colab": {
          "base_uri": "https://localhost:8080/",
          "height": 51
        }
      },
      "source": [
        "#printing factors\n",
        "n=int(input(''))\n",
        "i=1\n",
        "while i<=n:\n",
        "  if n%i==0:\n",
        "    print(i,end=' ')\n",
        "  i+=1  "
      ],
      "execution_count": 0,
      "outputs": [
        {
          "output_type": "stream",
          "text": [
            "12\n",
            "1 2 3 4 6 12 "
          ],
          "name": "stdout"
        }
      ]
    },
    {
      "cell_type": "code",
      "metadata": {
        "id": "t4wwqMThakLu",
        "colab_type": "code",
        "colab": {}
      },
      "source": [
        ""
      ],
      "execution_count": 0,
      "outputs": []
    }
  ]
}