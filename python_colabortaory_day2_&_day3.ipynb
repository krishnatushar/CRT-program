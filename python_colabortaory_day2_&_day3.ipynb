{
  "nbformat": 4,
  "nbformat_minor": 0,
  "metadata": {
    "colab": {
      "name": "python colabortaory day2 & day3",
      "provenance": [],
      "include_colab_link": true
    },
    "kernelspec": {
      "name": "python3",
      "display_name": "Python 3"
    }
  },
  "cells": [
    {
      "cell_type": "markdown",
      "metadata": {
        "id": "view-in-github",
        "colab_type": "text"
      },
      "source": [
        "<a href=\"https://colab.research.google.com/github/krishnatushar/CRT-program/blob/master/python_colabortaory_day2_%26_day3.ipynb\" target=\"_parent\"><img src=\"https://colab.research.google.com/assets/colab-badge.svg\" alt=\"Open In Colab\"/></a>"
      ]
    },
    {
      "cell_type": "markdown",
      "metadata": {
        "id": "yAz4LLaRcJAP",
        "colab_type": "text"
      },
      "source": [
        "#Day objectives\n",
        "- loop examples\n",
        "- Functions(user defined functions)\n",
        "- List ,Tuples and string"
      ]
    },
    {
      "cell_type": "code",
      "metadata": {
        "id": "sHp27HO7amUL",
        "colab_type": "code",
        "outputId": "4b3b0072-bb27-4914-9222-c35821db7348",
        "colab": {
          "base_uri": "https://localhost:8080/",
          "height": 51
        }
      },
      "source": [
        "# Read the number as input\n",
        "#Print the outp[ut as digit of number\n",
        "# Test cases]\n",
        "#145- 5 4 1\n",
        "#123- 3 2 1\n",
        "n=int(input('enter the number'))\n",
        "while n!=0:\n",
        "  r=n%10\n",
        "  print(r,end=' ')\n",
        "  n=n//10"
      ],
      "execution_count": 0,
      "outputs": [
        {
          "output_type": "stream",
          "text": [
            "enter the number541\n",
            "1 4 5 "
          ],
          "name": "stdout"
        }
      ]
    },
    {
      "cell_type": "markdown",
      "metadata": {
        "id": "mRbjpGq1e4u3",
        "colab_type": "text"
      },
      "source": [
        "#Functions in Python Programming\n",
        "- They divide the program into sub parts\n",
        "- They help in reusing the code\n",
        "- Make programs more easier\n",
        "- **def** is a keyword which is used to define the function\n",
        "- Function name always follows camel case always\n",
        "    -  fun()  isPalindrome()   inPalindromeCheck()\n",
        "- Definition of the function can be anything for given requirement\n",
        "- def FunctionName():\n",
        " - statements\n",
        " - return    \n",
        "\n",
        " "
      ]
    },
    {
      "cell_type": "code",
      "metadata": {
        "id": "u4uIz9Pxg9ge",
        "colab_type": "code",
        "outputId": "dae8ac72-c16f-479b-e5a5-a378b5cd0634",
        "colab": {
          "base_uri": "https://localhost:8080/",
          "height": 51
        }
      },
      "source": [
        "# Read the input as a number\n",
        "# Print the output as second largest number\n",
        "# 58952 - 9\n",
        "# 753124 - 7\n",
        "n=int(input(' '))\n",
        "def largeDigit(n):\n",
        "    large=0\n",
        "    while n!=0:\n",
        "      r=n%10\n",
        "      if large<r:\n",
        "        large =r\n",
        "      n=n//10\n",
        "    return large      \n",
        "largeDigit(n)    "
      ],
      "execution_count": 0,
      "outputs": [
        {
          "output_type": "stream",
          "text": [
            " 789541\n"
          ],
          "name": "stdout"
        },
        {
          "output_type": "execute_result",
          "data": {
            "text/plain": [
              "9"
            ]
          },
          "metadata": {
            "tags": []
          },
          "execution_count": 3
        }
      ]
    },
    {
      "cell_type": "code",
      "metadata": {
        "id": "dIIP7c8um1UA",
        "colab_type": "code",
        "outputId": "d00b59f3-ee56-4d48-8ccc-d6e590c26b7a",
        "colab": {
          "base_uri": "https://localhost:8080/",
          "height": 51
        }
      },
      "source": [
        "# Read a number as inout\n",
        "# Sum of digits of a given number\n",
        "#145= 10\n",
        "def sumOfDigits(n):\n",
        "  s=0\n",
        "  while n!=0:\n",
        "    r=n%10\n",
        "    s=s+r\n",
        "    n=n//10\n",
        "  return s\n",
        "n=int(input('enter the number'))    \n",
        "sumOfDigits(n)"
      ],
      "execution_count": 0,
      "outputs": [
        {
          "output_type": "stream",
          "text": [
            "enter the number145\n"
          ],
          "name": "stdout"
        },
        {
          "output_type": "execute_result",
          "data": {
            "text/plain": [
              "10"
            ]
          },
          "metadata": {
            "tags": []
          },
          "execution_count": 5
        }
      ]
    },
    {
      "cell_type": "code",
      "metadata": {
        "id": "T6elbU_5n9Zt",
        "colab_type": "code",
        "outputId": "05338a8e-2bed-4ab1-8d40-405071d23a13",
        "colab": {
          "base_uri": "https://localhost:8080/",
          "height": 51
        }
      },
      "source": [
        "# Read the inout as a number\n",
        "# Print the output as palindrome of the number\n",
        "# A number reversed itself is same as the original number called as palindrome\n",
        "#121 -palindrome\n",
        "#1889- not palindrome\n",
        "def palindrome(n):\n",
        "  p=n\n",
        "  s=0\n",
        "  while n!=0:\n",
        "    r=n%10\n",
        "    s=10*s+r\n",
        "    n=n//10\n",
        "  if s==p:\n",
        "    return \"palindrome\"\n",
        "  else:\n",
        "    return \"not palindrome\"\n",
        "  return     \n",
        "n=int(input('enter the number'))      \n",
        "palindrome(n)"
      ],
      "execution_count": 0,
      "outputs": [
        {
          "output_type": "stream",
          "text": [
            "enter the number121\n"
          ],
          "name": "stdout"
        },
        {
          "output_type": "execute_result",
          "data": {
            "text/plain": [
              "'palindrome'"
            ]
          },
          "metadata": {
            "tags": []
          },
          "execution_count": 17
        }
      ]
    },
    {
      "cell_type": "code",
      "metadata": {
        "id": "gWLwHCPGsXHI",
        "colab_type": "code",
        "outputId": "b6015802-e927-48b1-f80b-a09e3ef59ef9",
        "colab": {
          "base_uri": "https://localhost:8080/",
          "height": 51
        }
      },
      "source": [
        "# Read the input \n",
        "# Print the largest digit from the last three digits\n",
        "#762354-5\n",
        "def printLargeDigit(n):\n",
        "  i=0\n",
        "  large=0\n",
        "  while i!=3:\n",
        "    r=n%10\n",
        "    if large<r:\n",
        "      large=r\n",
        "    n=n//10\n",
        "    i=i+1\n",
        "  return large\n",
        "n=int(input('enter the number'))  \n",
        "printLargeDigit(n)"
      ],
      "execution_count": 0,
      "outputs": [
        {
          "output_type": "stream",
          "text": [
            "enter the number9812462\n"
          ],
          "name": "stdout"
        },
        {
          "output_type": "execute_result",
          "data": {
            "text/plain": [
              "6"
            ]
          },
          "metadata": {
            "tags": []
          },
          "execution_count": 19
        }
      ]
    },
    {
      "cell_type": "markdown",
      "metadata": {
        "id": "sLx2z548v_t6",
        "colab_type": "text"
      },
      "source": [
        "# Data Structures in Python programming\n",
        "- List\n",
        "- Tuples\n",
        "- Dictionaries\n",
        "- Sets\n"
      ]
    },
    {
      "cell_type": "code",
      "metadata": {
        "id": "yPQ8vpu3yYyT",
        "colab_type": "code",
        "outputId": "55a37148-2115-420c-81a1-dbe937390870",
        "colab": {
          "base_uri": "https://localhost:8080/",
          "height": 34
        }
      },
      "source": [
        "li=[1,2,3,4,5]\n",
        "print(li)"
      ],
      "execution_count": 0,
      "outputs": [
        {
          "output_type": "stream",
          "text": [
            "[1, 2, 3, 4, 5]\n"
          ],
          "name": "stdout"
        }
      ]
    },
    {
      "cell_type": "code",
      "metadata": {
        "id": "PeqZaRe8yYw0",
        "colab_type": "code",
        "outputId": "3fb7d2dd-8504-4ab3-da23-783880b7ac60",
        "colab": {
          "base_uri": "https://localhost:8080/",
          "height": 34
        }
      },
      "source": [
        "li1=[1,2,\"gitam\",4,5,'y']\n",
        "print(li1)"
      ],
      "execution_count": 0,
      "outputs": [
        {
          "output_type": "stream",
          "text": [
            "[1, 2, 'gitam', 4, 5, 'y']\n"
          ],
          "name": "stdout"
        }
      ]
    },
    {
      "cell_type": "code",
      "metadata": {
        "id": "k4JwPMu_yo-z",
        "colab_type": "code",
        "outputId": "c64bc94d-fcf3-4452-ce54-5e2731b0ce7e",
        "colab": {
          "base_uri": "https://localhost:8080/",
          "height": 34
        }
      },
      "source": [
        "for i in range(len(li)):\n",
        "  print(li[i],end=' ')"
      ],
      "execution_count": 0,
      "outputs": [
        {
          "output_type": "stream",
          "text": [
            "1 2 3 4 5 "
          ],
          "name": "stdout"
        }
      ]
    },
    {
      "cell_type": "code",
      "metadata": {
        "id": "-9G1WSuCy5az",
        "colab_type": "code",
        "outputId": "502d541e-a102-4369-b132-d1af01fa941a",
        "colab": {
          "base_uri": "https://localhost:8080/",
          "height": 34
        }
      },
      "source": [
        "for i in range(1,11):\n",
        "  print(i,end=' ')"
      ],
      "execution_count": 0,
      "outputs": [
        {
          "output_type": "stream",
          "text": [
            "1 2 3 4 5 6 7 8 9 10 "
          ],
          "name": "stdout"
        }
      ]
    },
    {
      "cell_type": "code",
      "metadata": {
        "id": "7KE8yjGGzCDT",
        "colab_type": "code",
        "outputId": "31292587-0bca-4999-ace5-fe3cf91bedf0",
        "colab": {
          "base_uri": "https://localhost:8080/",
          "height": 34
        }
      },
      "source": [
        "for i in range(0,25,2):\n",
        "  print(i,end=' ')"
      ],
      "execution_count": 0,
      "outputs": [
        {
          "output_type": "stream",
          "text": [
            "0 2 4 6 8 10 12 14 16 18 20 22 24 "
          ],
          "name": "stdout"
        }
      ]
    },
    {
      "cell_type": "markdown",
      "metadata": {
        "id": "sSKvE1m5Lwfq",
        "colab_type": "text"
      },
      "source": [
        "#List and list related examples"
      ]
    },
    {
      "cell_type": "code",
      "metadata": {
        "id": "MqhpuY4iL4GI",
        "colab_type": "code",
        "outputId": "f3bb3ba2-0f33-40db-e70a-6884cff970f6",
        "colab": {
          "base_uri": "https://localhost:8080/",
          "height": 34
        }
      },
      "source": [
        "li=[1,2,3,4,5]\n",
        "print(len(li))   #len() will return length of the list"
      ],
      "execution_count": 0,
      "outputs": [
        {
          "output_type": "stream",
          "text": [
            "5\n"
          ],
          "name": "stdout"
        }
      ]
    },
    {
      "cell_type": "code",
      "metadata": {
        "id": "4HnpUs4MOn28",
        "colab_type": "code",
        "outputId": "caaeb741-8e4f-4fef-e28c-46737ce558dd",
        "colab": {
          "base_uri": "https://localhost:8080/",
          "height": 34
        }
      },
      "source": [
        "li[2]=1954  #update the list item value\n",
        "print(li)"
      ],
      "execution_count": 0,
      "outputs": [
        {
          "output_type": "stream",
          "text": [
            "[1, 2, 1954, 4, 5]\n"
          ],
          "name": "stdout"
        }
      ]
    },
    {
      "cell_type": "code",
      "metadata": {
        "id": "rClhBweJOsaq",
        "colab_type": "code",
        "outputId": "6158ec7e-7daf-417b-db1b-9d19daab25dd",
        "colab": {
          "base_uri": "https://localhost:8080/",
          "height": 34
        }
      },
      "source": [
        "del li[3]   #del the specific index value\n",
        "print(li)\n",
        "# del li #deletes the entire list"
      ],
      "execution_count": 0,
      "outputs": [
        {
          "output_type": "stream",
          "text": [
            "[1, 2, 1954, 5]\n"
          ],
          "name": "stdout"
        }
      ]
    },
    {
      "cell_type": "code",
      "metadata": {
        "id": "xnTxsIi4PWCJ",
        "colab_type": "code",
        "outputId": "819552c0-eeef-449b-8bb0-0e1154c5e406",
        "colab": {
          "base_uri": "https://localhost:8080/",
          "height": 85
        }
      },
      "source": [
        "print(li[-1])  #to access the last item\n",
        "print (li[1]) \n",
        "print(li[-1:4])  #list slicing\n",
        "print(li[1:3])"
      ],
      "execution_count": 0,
      "outputs": [
        {
          "output_type": "stream",
          "text": [
            "5\n",
            "2\n",
            "[5]\n",
            "[2, 1954]\n"
          ],
          "name": "stdout"
        }
      ]
    },
    {
      "cell_type": "code",
      "metadata": {
        "id": "8qY0dayhR9bo",
        "colab_type": "code",
        "outputId": "d9327528-eb4a-49bb-a0ff-88dcbdfc6ad3",
        "colab": {
          "base_uri": "https://localhost:8080/",
          "height": 102
        }
      },
      "source": [
        "print(li)\n",
        "print(sum(li))\n",
        "print(max(li))  #max value of the list\n",
        "print(min(li))  #min value of the list\n",
        "print(sum(li)//len(li)) #avg value of the list "
      ],
      "execution_count": 0,
      "outputs": [
        {
          "output_type": "stream",
          "text": [
            "[1, 2, 1954, 5]\n",
            "1962\n",
            "1954\n",
            "1\n",
            "490\n"
          ],
          "name": "stdout"
        }
      ]
    },
    {
      "cell_type": "code",
      "metadata": {
        "id": "eo4bZQAIU01_",
        "colab_type": "code",
        "outputId": "a611d618-763d-4433-cfb0-ef3d188bfab6",
        "colab": {
          "base_uri": "https://localhost:8080/",
          "height": 34
        }
      },
      "source": [
        "li=[1,2,3,4,5]\n",
        "print(li)"
      ],
      "execution_count": 0,
      "outputs": [
        {
          "output_type": "stream",
          "text": [
            "[1, 2, 3, 4, 5]\n"
          ],
          "name": "stdout"
        }
      ]
    },
    {
      "cell_type": "markdown",
      "metadata": {
        "id": "9NUVm5XFWsEr",
        "colab_type": "text"
      },
      "source": [
        "# List methods"
      ]
    },
    {
      "cell_type": "code",
      "metadata": {
        "id": "EbX9SzMrVzC9",
        "colab_type": "code",
        "colab": {}
      },
      "source": [
        ""
      ],
      "execution_count": 0,
      "outputs": []
    },
    {
      "cell_type": "code",
      "metadata": {
        "id": "iDADU2sXVSyc",
        "colab_type": "code",
        "outputId": "edbb80f7-30af-4da3-f860-69fac6a1fd2a",
        "colab": {
          "base_uri": "https://localhost:8080/",
          "height": 34
        }
      },
      "source": [
        "li.append(200) #append inserts the value at the end of list\n",
        "li.insert(3,59) #inserts the new item at any place of list\n",
        "li"
      ],
      "execution_count": 0,
      "outputs": [
        {
          "output_type": "execute_result",
          "data": {
            "text/plain": [
              "[1, 2, 3, 59, 59, 59, 59, 59, 4, 5, 100, 200, 200, 200, 200, 200, 200]"
            ]
          },
          "metadata": {
            "tags": []
          },
          "execution_count": 47
        }
      ]
    },
    {
      "cell_type": "code",
      "metadata": {
        "id": "1uxPnq3FXNk4",
        "colab_type": "code",
        "outputId": "791fc593-0034-4def-fbd5-9b3aa1538d18",
        "colab": {
          "base_uri": "https://localhost:8080/",
          "height": 34
        }
      },
      "source": [
        "li.count(200) # counts the number of times specific item is repeated"
      ],
      "execution_count": 0,
      "outputs": [
        {
          "output_type": "execute_result",
          "data": {
            "text/plain": [
              "6"
            ]
          },
          "metadata": {
            "tags": []
          },
          "execution_count": 49
        }
      ]
    },
    {
      "cell_type": "code",
      "metadata": {
        "id": "I0Yom6LrXQhW",
        "colab_type": "code",
        "outputId": "e9454516-23ec-438e-a576-7b0fe3b6e784",
        "colab": {
          "base_uri": "https://localhost:8080/",
          "height": 34
        }
      },
      "source": [
        "del li[3]\n",
        "print(li)"
      ],
      "execution_count": 0,
      "outputs": [
        {
          "output_type": "stream",
          "text": [
            "[1, 2, 3, 59, 59, 4, 5, 100, 200, 200, 200, 200, 200, 200]\n"
          ],
          "name": "stdout"
        }
      ]
    },
    {
      "cell_type": "code",
      "metadata": {
        "id": "nOTpxWemXvPW",
        "colab_type": "code",
        "outputId": "66046721-da64-4113-fb21-2052bf315096",
        "colab": {
          "base_uri": "https://localhost:8080/",
          "height": 34
        }
      },
      "source": [
        "del li[4]\n",
        "print(li)"
      ],
      "execution_count": 0,
      "outputs": [
        {
          "output_type": "stream",
          "text": [
            "[1, 2, 3, 59, 5, 100, 200, 200, 200, 200, 200, 200]\n"
          ],
          "name": "stdout"
        }
      ]
    },
    {
      "cell_type": "code",
      "metadata": {
        "id": "nKgtccGOXz4u",
        "colab_type": "code",
        "outputId": "380b8824-bafe-46ab-9edb-5f05396c52ec",
        "colab": {
          "base_uri": "https://localhost:8080/",
          "height": 34
        }
      },
      "source": [
        "del li[6]\n",
        "print(li)"
      ],
      "execution_count": 0,
      "outputs": [
        {
          "output_type": "stream",
          "text": [
            "[1, 2, 3, 59, 5, 100, 200, 200, 200, 200, 200]\n"
          ],
          "name": "stdout"
        }
      ]
    },
    {
      "cell_type": "code",
      "metadata": {
        "id": "-Db0hSbCX6KG",
        "colab_type": "code",
        "outputId": "739f3e2e-6ae9-4b5c-c894-3911dd9d0b3b",
        "colab": {
          "base_uri": "https://localhost:8080/",
          "height": 34
        }
      },
      "source": [
        "del li[7]\n",
        "print(li)"
      ],
      "execution_count": 0,
      "outputs": [
        {
          "output_type": "stream",
          "text": [
            "[1, 2, 3, 59, 5, 100, 200, 200, 200, 200]\n"
          ],
          "name": "stdout"
        }
      ]
    },
    {
      "cell_type": "code",
      "metadata": {
        "id": "DcC-nsROX7j2",
        "colab_type": "code",
        "outputId": "3e9d3546-0e65-49ca-b647-5bc1c4564c5a",
        "colab": {
          "base_uri": "https://localhost:8080/",
          "height": 34
        }
      },
      "source": [
        "del li[8]\n",
        "print(li)"
      ],
      "execution_count": 0,
      "outputs": [
        {
          "output_type": "stream",
          "text": [
            "[1, 2, 3, 59, 5, 100, 200, 200, 200]\n"
          ],
          "name": "stdout"
        }
      ]
    },
    {
      "cell_type": "code",
      "metadata": {
        "id": "0Q2jfhA9X9TN",
        "colab_type": "code",
        "outputId": "794466b3-ada8-4346-ed09-c02eec7192c1",
        "colab": {
          "base_uri": "https://localhost:8080/",
          "height": 34
        }
      },
      "source": [
        "del li[6]\n",
        "print(li)"
      ],
      "execution_count": 0,
      "outputs": [
        {
          "output_type": "stream",
          "text": [
            "[1, 2, 3, 59, 5, 100, 200, 200]\n"
          ],
          "name": "stdout"
        }
      ]
    },
    {
      "cell_type": "code",
      "metadata": {
        "id": "_-htqPufX_eN",
        "colab_type": "code",
        "outputId": "d358dbb8-a3c1-4c9c-d0f2-770db28fc05b",
        "colab": {
          "base_uri": "https://localhost:8080/",
          "height": 34
        }
      },
      "source": [
        "del li[6]\n",
        "print(li)"
      ],
      "execution_count": 0,
      "outputs": [
        {
          "output_type": "stream",
          "text": [
            "[1, 2, 3, 59, 5, 100, 200]\n"
          ],
          "name": "stdout"
        }
      ]
    },
    {
      "cell_type": "code",
      "metadata": {
        "id": "X13b7QW4YGbl",
        "colab_type": "code",
        "outputId": "48c13c4e-76d6-43ac-e209-286041addd2b",
        "colab": {
          "base_uri": "https://localhost:8080/",
          "height": 34
        }
      },
      "source": [
        "li.count(59)"
      ],
      "execution_count": 0,
      "outputs": [
        {
          "output_type": "execute_result",
          "data": {
            "text/plain": [
              "1"
            ]
          },
          "metadata": {
            "tags": []
          },
          "execution_count": 62
        }
      ]
    },
    {
      "cell_type": "code",
      "metadata": {
        "id": "u4Yhb7sYYNZd",
        "colab_type": "code",
        "outputId": "c5086b7b-6fc0-4854-cd83-1216ba6ad504",
        "colab": {
          "base_uri": "https://localhost:8080/",
          "height": 34
        }
      },
      "source": [
        "li.index(59)"
      ],
      "execution_count": 0,
      "outputs": [
        {
          "output_type": "execute_result",
          "data": {
            "text/plain": [
              "3"
            ]
          },
          "metadata": {
            "tags": []
          },
          "execution_count": 63
        }
      ]
    },
    {
      "cell_type": "code",
      "metadata": {
        "id": "xhbgXikEYUiN",
        "colab_type": "code",
        "outputId": "0b4587e0-f6e4-432b-b710-c64d64f017fc",
        "colab": {
          "base_uri": "https://localhost:8080/",
          "height": 34
        }
      },
      "source": [
        "li.sort() #sorts the entire list\n",
        "li\n",
        "\n"
      ],
      "execution_count": 0,
      "outputs": [
        {
          "output_type": "execute_result",
          "data": {
            "text/plain": [
              "[1, 2, 3, 5, 59, 100, 200]"
            ]
          },
          "metadata": {
            "tags": []
          },
          "execution_count": 66
        }
      ]
    },
    {
      "cell_type": "code",
      "metadata": {
        "id": "k8WtMuqOYYUE",
        "colab_type": "code",
        "outputId": "becd3d35-7637-4362-d702-6b0197d78828",
        "colab": {
          "base_uri": "https://localhost:8080/",
          "height": 34
        }
      },
      "source": [
        "li.pop() #pop() removes the item of last index\n",
        "li"
      ],
      "execution_count": 0,
      "outputs": [
        {
          "output_type": "execute_result",
          "data": {
            "text/plain": [
              "[1, 2, 3, 5, 59, 100]"
            ]
          },
          "metadata": {
            "tags": []
          },
          "execution_count": 67
        }
      ]
    },
    {
      "cell_type": "code",
      "metadata": {
        "id": "sgr1Ul1bY8Oo",
        "colab_type": "code",
        "outputId": "91d9a454-15a8-4414-ebdf-565507e5310c",
        "colab": {
          "base_uri": "https://localhost:8080/",
          "height": 34
        }
      },
      "source": [
        "li.pop(2) #removes the item on specified index\n",
        "li"
      ],
      "execution_count": 0,
      "outputs": [
        {
          "output_type": "execute_result",
          "data": {
            "text/plain": [
              "[1, 2, 59, 100]"
            ]
          },
          "metadata": {
            "tags": []
          },
          "execution_count": 69
        }
      ]
    },
    {
      "cell_type": "code",
      "metadata": {
        "id": "UgPpHmiJY92-",
        "colab_type": "code",
        "outputId": "674d26e2-2b11-4f60-cc5b-96197aff0f1b",
        "colab": {
          "base_uri": "https://localhost:8080/",
          "height": 34
        }
      },
      "source": [
        "# define a function for second large item in the list\n",
        "def secondLarge(li):\n",
        "  li.sort()\n",
        "  return li[-2]\n",
        "li=[1,9,15,25,2,3,65]\n",
        "secondLarge(li)  "
      ],
      "execution_count": 0,
      "outputs": [
        {
          "output_type": "execute_result",
          "data": {
            "text/plain": [
              "25"
            ]
          },
          "metadata": {
            "tags": []
          },
          "execution_count": 71
        }
      ]
    },
    {
      "cell_type": "code",
      "metadata": {
        "id": "euLdFbakbO9l",
        "colab_type": "code",
        "outputId": "c0b69adc-839f-45a7-c088-79f7242297c7",
        "colab": {
          "base_uri": "https://localhost:8080/",
          "height": 34
        }
      },
      "source": [
        "def genericLarge(li,n):\n",
        "  li.sort()\n",
        "  return li[-n]\n",
        "genericLarge(li,3)  "
      ],
      "execution_count": 0,
      "outputs": [
        {
          "output_type": "execute_result",
          "data": {
            "text/plain": [
              "15"
            ]
          },
          "metadata": {
            "tags": []
          },
          "execution_count": 74
        }
      ]
    },
    {
      "cell_type": "code",
      "metadata": {
        "id": "BEjMyc9BdANW",
        "colab_type": "code",
        "outputId": "07684b93-7a26-49f7-d106-09d22b89f687",
        "colab": {
          "base_uri": "https://localhost:8080/",
          "height": 34
        }
      },
      "source": [
        "li.sort()\n",
        "li"
      ],
      "execution_count": 0,
      "outputs": [
        {
          "output_type": "execute_result",
          "data": {
            "text/plain": [
              "[1, 2, 3, 9, 15, 25, 65]"
            ]
          },
          "metadata": {
            "tags": []
          },
          "execution_count": 81
        }
      ]
    },
    {
      "cell_type": "code",
      "metadata": {
        "id": "Jplp0mxEbktW",
        "colab_type": "code",
        "outputId": "566d2626-9bcb-4715-ca21-c2992208dc07",
        "colab": {
          "base_uri": "https://localhost:8080/",
          "height": 34
        }
      },
      "source": [
        "def genericLeast(li,n):\n",
        "  li.sort()\n",
        "  return li[n]\n",
        "li=[1,9,15,25,2,3,65]  \n",
        "genericLeast(li,0)  "
      ],
      "execution_count": 0,
      "outputs": [
        {
          "output_type": "execute_result",
          "data": {
            "text/plain": [
              "1"
            ]
          },
          "metadata": {
            "tags": []
          },
          "execution_count": 82
        }
      ]
    },
    {
      "cell_type": "markdown",
      "metadata": {
        "id": "ZSvrFvYpfhi8",
        "colab_type": "text"
      },
      "source": [
        "#Number to List conversions\n",
        "- 19563212- [1,9,5,6,3,2,1,2]"
      ]
    },
    {
      "cell_type": "code",
      "metadata": {
        "id": "utkOKgTheKzf",
        "colab_type": "code",
        "outputId": "1e1248d2-634f-4733-dee3-c649712f8fe5",
        "colab": {
          "base_uri": "https://localhost:8080/",
          "height": 34
        }
      },
      "source": [
        "def numberToList(n):\n",
        "  li=[]\n",
        "  while n!=0:\n",
        "    r=n%10\n",
        "    li.append(r)\n",
        "    n=n//10\n",
        "  li.reverse()\n",
        "  return li        \n",
        "numberToList(19563212)  "
      ],
      "execution_count": 0,
      "outputs": [
        {
          "output_type": "execute_result",
          "data": {
            "text/plain": [
              "[1, 9, 5, 6, 3, 2, 1, 2]"
            ]
          },
          "metadata": {
            "tags": []
          },
          "execution_count": 90
        }
      ]
    },
    {
      "cell_type": "markdown",
      "metadata": {
        "id": "AD10sZJmgMpE",
        "colab_type": "text"
      },
      "source": [
        "#Data structures - Tuples\n",
        "- It is similar to list\n",
        "- List is enclosed in square brackets whereas \n",
        "- Tuples are enclosed in parenthesis\n",
        "- List can be increased or decreased \n",
        "- But a tupple is fixed and cannot be increased or decreased\n",
        "- List is mutable and Tuople is unmutable(no upgrade or downgrade cannot be executes)\n",
        "- List can be used to read and write whereas Tuple is only used to read\n"
      ]
    },
    {
      "cell_type": "code",
      "metadata": {
        "id": "9lWUTo8qhpmu",
        "colab_type": "code",
        "outputId": "93015495-08d7-4d53-f1bc-20fe48ff89be",
        "colab": {
          "base_uri": "https://localhost:8080/",
          "height": 34
        }
      },
      "source": [
        "t1=(1,4,2,5,3)\n",
        "t1"
      ],
      "execution_count": 0,
      "outputs": [
        {
          "output_type": "execute_result",
          "data": {
            "text/plain": [
              "(1, 4, 2, 5, 3)"
            ]
          },
          "metadata": {
            "tags": []
          },
          "execution_count": 92
        }
      ]
    },
    {
      "cell_type": "code",
      "metadata": {
        "id": "Qc-W3A74huqu",
        "colab_type": "code",
        "outputId": "e1238b78-14ce-49d4-9abb-3d906837ae7c",
        "colab": {
          "base_uri": "https://localhost:8080/",
          "height": 34
        }
      },
      "source": [
        "t1[0:4]"
      ],
      "execution_count": 0,
      "outputs": [
        {
          "output_type": "execute_result",
          "data": {
            "text/plain": [
              "(1, 4, 2, 5)"
            ]
          },
          "metadata": {
            "tags": []
          },
          "execution_count": 93
        }
      ]
    },
    {
      "cell_type": "code",
      "metadata": {
        "id": "TXWVBOq7hzJe",
        "colab_type": "code",
        "outputId": "e5c5c96d-43c6-44ab-81dc-e375b2e81160",
        "colab": {
          "base_uri": "https://localhost:8080/",
          "height": 163
        }
      },
      "source": [
        "t1[2]=12\n",
        "# NOT POSSIBLE FOR REPLACING AN ELEMENT IN TUPLE"
      ],
      "execution_count": 0,
      "outputs": [
        {
          "output_type": "error",
          "ename": "TypeError",
          "evalue": "ignored",
          "traceback": [
            "\u001b[0;31m---------------------------------------------------------------------------\u001b[0m",
            "\u001b[0;31mTypeError\u001b[0m                                 Traceback (most recent call last)",
            "\u001b[0;32m<ipython-input-95-9fe6bbe2b504>\u001b[0m in \u001b[0;36m<module>\u001b[0;34m()\u001b[0m\n\u001b[0;32m----> 1\u001b[0;31m \u001b[0mt1\u001b[0m\u001b[0;34m[\u001b[0m\u001b[0;36m2\u001b[0m\u001b[0;34m]\u001b[0m\u001b[0;34m=\u001b[0m\u001b[0;36m12\u001b[0m\u001b[0;34m\u001b[0m\u001b[0;34m\u001b[0m\u001b[0m\n\u001b[0m",
            "\u001b[0;31mTypeError\u001b[0m: 'tuple' object does not support item assignment"
          ]
        }
      ]
    },
    {
      "cell_type": "code",
      "metadata": {
        "id": "uwjQsOuUh280",
        "colab_type": "code",
        "outputId": "0332eaae-d816-4ff5-bb71-168dbe121cbd",
        "colab": {
          "base_uri": "https://localhost:8080/",
          "height": 180
        }
      },
      "source": [
        "del t1[2]\n",
        "#NOT POSSIBLE TO DELETE AN ELEMENT"
      ],
      "execution_count": 0,
      "outputs": [
        {
          "output_type": "error",
          "ename": "TypeError",
          "evalue": "ignored",
          "traceback": [
            "\u001b[0;31m---------------------------------------------------------------------------\u001b[0m",
            "\u001b[0;31mTypeError\u001b[0m                                 Traceback (most recent call last)",
            "\u001b[0;32m<ipython-input-99-8d0da8d899f0>\u001b[0m in \u001b[0;36m<module>\u001b[0;34m()\u001b[0m\n\u001b[0;32m----> 1\u001b[0;31m \u001b[0;32mdel\u001b[0m \u001b[0mt1\u001b[0m\u001b[0;34m[\u001b[0m\u001b[0;36m2\u001b[0m\u001b[0;34m]\u001b[0m\u001b[0;34m\u001b[0m\u001b[0;34m\u001b[0m\u001b[0m\n\u001b[0m\u001b[1;32m      2\u001b[0m \u001b[0;31m#NOT POSSIBLE TO DELETE AN ELEMENT\u001b[0m\u001b[0;34m\u001b[0m\u001b[0;34m\u001b[0m\u001b[0;34m\u001b[0m\u001b[0m\n",
            "\u001b[0;31mTypeError\u001b[0m: 'tuple' object doesn't support item deletion"
          ]
        }
      ]
    },
    {
      "cell_type": "markdown",
      "metadata": {
        "id": "JP645alpjgNM",
        "colab_type": "text"
      },
      "source": [
        "#Data Structures - Dictionaries\n",
        "- This data structure object works on keys and values\n",
        "- A unique key set are defined in this \n",
        "- Every key is seperated form its value by a colon(:)\n",
        "- Every key and value pair is seperated by a comma(,)\n",
        "-It is defined with curly braces { }"
      ]
    },
    {
      "cell_type": "code",
      "metadata": {
        "id": "sCmUOZ1Hkl5L",
        "colab_type": "code",
        "outputId": "0c39522e-65e6-4af8-814c-6ee65c6d6fa1",
        "colab": {
          "base_uri": "https://localhost:8080/",
          "height": 34
        }
      },
      "source": [
        "d1={\"name\":\"krishna tushar\",\"emailID\":\"iktushar99@gmail.com\",\"mobile number\":7713195}\n",
        "print(d1)"
      ],
      "execution_count": 0,
      "outputs": [
        {
          "output_type": "stream",
          "text": [
            "{'name': 'krishna tushar', 'emailID': 'iktushar99@gmail.com', 'mobile number': 7713195}\n"
          ],
          "name": "stdout"
        }
      ]
    },
    {
      "cell_type": "code",
      "metadata": {
        "id": "XU6FE6aolaIz",
        "colab_type": "code",
        "outputId": "d3fdcc4e-851e-40e4-8874-7770fda79fea",
        "colab": {
          "base_uri": "https://localhost:8080/",
          "height": 34
        }
      },
      "source": [
        "print(d1[\"emailID\"])"
      ],
      "execution_count": 0,
      "outputs": [
        {
          "output_type": "stream",
          "text": [
            "iktushar99@gmail.com\n"
          ],
          "name": "stdout"
        }
      ]
    },
    {
      "cell_type": "code",
      "metadata": {
        "id": "lPuOIGxrlnjd",
        "colab_type": "code",
        "outputId": "61b807f5-d982-4c9c-fa1d-43dc345b60ea",
        "colab": {
          "base_uri": "https://localhost:8080/",
          "height": 34
        }
      },
      "source": [
        "d1[\"mobile number\"]=7730813195    #updating the dictionary\n",
        "print(d1)"
      ],
      "execution_count": 0,
      "outputs": [
        {
          "output_type": "stream",
          "text": [
            "{'name': 'krishna tushar', 'emailID': 'iktushar99@gmail.com', 'mobile number': 7730813195}\n"
          ],
          "name": "stdout"
        }
      ]
    },
    {
      "cell_type": "code",
      "metadata": {
        "id": "kCZfY2eHl091",
        "colab_type": "code",
        "outputId": "916d2821-fbb3-4908-80c9-b102b3d72715",
        "colab": {
          "base_uri": "https://localhost:8080/",
          "height": 34
        }
      },
      "source": [
        "del d1[\"mobile number\"]    #deleting any specific key\n",
        "d1"
      ],
      "execution_count": 0,
      "outputs": [
        {
          "output_type": "execute_result",
          "data": {
            "text/plain": [
              "{'emailID': 'iktushar99@gmail.com', 'name': 'krishna tushar'}"
            ]
          },
          "metadata": {
            "tags": []
          },
          "execution_count": 117
        }
      ]
    },
    {
      "cell_type": "markdown",
      "metadata": {
        "id": "D3AfU98DoRIk",
        "colab_type": "text"
      },
      "source": [
        "#Contact Application\n",
        "- Used concepts = dictionaries , lists , tuples\n",
        "###Modules of contact application\n",
        "    - Add contacts\n",
        "    - Search contacts\n",
        "    - Import a new contact\n",
        "    - Updating a contact\n",
        "    -Deleting a contact"
      ]
    },
    {
      "cell_type": "code",
      "metadata": {
        "id": "C-OcuzYTmKoN",
        "colab_type": "code",
        "outputId": "68147361-a455-467e-f40e-fe2cc782002f",
        "colab": {
          "base_uri": "https://localhost:8080/",
          "height": 85
        }
      },
      "source": [
        "contacts={}#empty dictionary\n",
        "#define functions for adding contacts\n",
        "def addContacts(name,phone):\n",
        "  if name not in contacts:\n",
        "    contacts[name]=phone\n",
        "    print(\"contact added\")\n",
        "  else:\n",
        "    print(\"contact not added\")\n",
        "  return    \n",
        "addContacts('Tushar',7730813195)\n",
        "addContacts('Srinija',7893148358) \n",
        "addContacts('Tushar',7730813195)\n",
        "addContacts('Aditya',8180483581)  "
      ],
      "execution_count": 0,
      "outputs": [
        {
          "output_type": "stream",
          "text": [
            "contact added\n",
            "contact added\n",
            "contact not added\n",
            "contact added\n"
          ],
          "name": "stdout"
        }
      ]
    },
    {
      "cell_type": "code",
      "metadata": {
        "id": "ojId-_RgrMYV",
        "colab_type": "code",
        "outputId": "71fa4fa2-a800-4916-ee26-af96573d803b",
        "colab": {
          "base_uri": "https://localhost:8080/",
          "height": 34
        }
      },
      "source": [
        "contacts"
      ],
      "execution_count": 0,
      "outputs": [
        {
          "output_type": "execute_result",
          "data": {
            "text/plain": [
              "{'Aditya': 8180483581, 'Srinija': 7893148358, 'Tushar': 7730813195}"
            ]
          },
          "metadata": {
            "tags": []
          },
          "execution_count": 125
        }
      ]
    },
    {
      "cell_type": "code",
      "metadata": {
        "id": "W8g0rW_NrPCW",
        "colab_type": "code",
        "outputId": "ed2b40e3-61cb-4f4b-e88c-7e04b42af57d",
        "colab": {
          "base_uri": "https://localhost:8080/",
          "height": 68
        }
      },
      "source": [
        "#search contact\n",
        "def searchContact(name):\n",
        "  if name in contacts:\n",
        "    print(name,\" : \",contacts[name])\n",
        "  else:\n",
        "    print('contact is not present') \n",
        "  return\n",
        "searchContact('Aditya')\n",
        "searchContact('Tushar')\n",
        "searchContact('tushar')     "
      ],
      "execution_count": 0,
      "outputs": [
        {
          "output_type": "stream",
          "text": [
            "Aditya  :  8180483581\n",
            "Tushar  :  7730813195\n",
            "contact is not present\n"
          ],
          "name": "stdout"
        }
      ]
    },
    {
      "cell_type": "code",
      "metadata": {
        "id": "-SVmt65JrRUw",
        "colab_type": "code",
        "outputId": "35d235a0-0eca-4d5e-92b2-72e4064ab704",
        "colab": {
          "base_uri": "https://localhost:8080/",
          "height": 34
        }
      },
      "source": [
        "#define a function for import new contacts\n",
        "def importContacts(newContacts):\n",
        "  contacts.update(newContacts)\n",
        "  print('new contacts are added')\n",
        "  return\n",
        "newContacts={\"ramesh\":9989309810,\"Uma\":9908579435}\n",
        "importContacts(newContacts)"
      ],
      "execution_count": 0,
      "outputs": [
        {
          "output_type": "stream",
          "text": [
            "new contacts are added\n"
          ],
          "name": "stdout"
        }
      ]
    },
    {
      "cell_type": "code",
      "metadata": {
        "id": "e8TSrTc7tv6h",
        "colab_type": "code",
        "outputId": "db1a3f2c-6b3e-43a7-8958-3fd2b8b5e248",
        "colab": {
          "base_uri": "https://localhost:8080/",
          "height": 136
        }
      },
      "source": [
        "contacts"
      ],
      "execution_count": 0,
      "outputs": [
        {
          "output_type": "execute_result",
          "data": {
            "text/plain": [
              "{'': 9989309810,\n",
              " 'Aditya': 8180483581,\n",
              " 'Ramesh': 9989309810,\n",
              " 'Srinija': 7893148358,\n",
              " 'Tushar': 7730813195,\n",
              " 'Uma': 9908579435,\n",
              " 'ramesh': 9989309810}"
            ]
          },
          "metadata": {
            "tags": []
          },
          "execution_count": 145
        }
      ]
    },
    {
      "cell_type": "code",
      "metadata": {
        "id": "wM1ifPG-uDJo",
        "colab_type": "code",
        "outputId": "3c399996-8c97-4876-b2a8-124d4a028445",
        "colab": {
          "base_uri": "https://localhost:8080/",
          "height": 51
        }
      },
      "source": [
        "#Define a function for updation contact\n",
        "def updateDetails(name,phone):\n",
        "  if name in contacts:\n",
        "    contacts[name]=phone\n",
        "    print('contact update is successful')\n",
        "  else:\n",
        "    print('contact update not succesful')\n",
        "  return\n",
        "updateDetails('Ramesh',9989309007)\n",
        "updateDetails('tushar',77308133195)      "
      ],
      "execution_count": 0,
      "outputs": [
        {
          "output_type": "stream",
          "text": [
            "contact update is successful\n",
            "contact update not succesful\n"
          ],
          "name": "stdout"
        }
      ]
    },
    {
      "cell_type": "code",
      "metadata": {
        "id": "8Idi3k1lu0zH",
        "colab_type": "code",
        "outputId": "482c8095-1872-4c03-8616-472c2b83c5b4",
        "colab": {
          "base_uri": "https://localhost:8080/",
          "height": 119
        }
      },
      "source": [
        "contacts"
      ],
      "execution_count": 0,
      "outputs": [
        {
          "output_type": "execute_result",
          "data": {
            "text/plain": [
              "{'Aditya': 8180483581,\n",
              " 'Ramesh': 9989309007,\n",
              " 'Srinija': 7893148358,\n",
              " 'Tushar': 7730813195,\n",
              " 'Uma': 9908579435,\n",
              " 'ramesh': 9989309810}"
            ]
          },
          "metadata": {
            "tags": []
          },
          "execution_count": 152
        }
      ]
    },
    {
      "cell_type": "code",
      "metadata": {
        "id": "m2SanMUpvikw",
        "colab_type": "code",
        "outputId": "6abf152a-1ba5-47be-897f-65e93c6eefe6",
        "colab": {
          "base_uri": "https://localhost:8080/",
          "height": 51
        }
      },
      "source": [
        "#define a function for deleting a contact\n",
        "def deleteContact(name):\n",
        "  if name in contacts:\n",
        "    del contacts[name]\n",
        "    print('contact is deleted')\n",
        "  else:\n",
        "    print('contact not present')\n",
        "  return\n",
        "deleteContact('ramesh')\n",
        "deleteContact('tush')      "
      ],
      "execution_count": 0,
      "outputs": [
        {
          "output_type": "stream",
          "text": [
            "contact not present\n",
            "contact not present\n"
          ],
          "name": "stdout"
        }
      ]
    },
    {
      "cell_type": "code",
      "metadata": {
        "id": "AaCh2DedxFH5",
        "colab_type": "code",
        "outputId": "47e4aae5-4938-4569-a1cd-c6a8199f314b",
        "colab": {
          "base_uri": "https://localhost:8080/",
          "height": 102
        }
      },
      "source": [
        "contacts"
      ],
      "execution_count": 0,
      "outputs": [
        {
          "output_type": "execute_result",
          "data": {
            "text/plain": [
              "{'Aditya': 8180483581,\n",
              " 'Ramesh': 9989309007,\n",
              " 'Srinija': 7893148358,\n",
              " 'Tushar': 7730813195,\n",
              " 'Uma': 9908579435}"
            ]
          },
          "metadata": {
            "tags": []
          },
          "execution_count": 156
        }
      ]
    },
    {
      "cell_type": "markdown",
      "metadata": {
        "id": "8pAZjdg4x81G",
        "colab_type": "text"
      },
      "source": [
        "#Features that can be added\n",
        "- Verifying if number has 10 digit \n",
        "- Adding extra number to same contact\n",
        "- Saving number to the cloud"
      ]
    },
    {
      "cell_type": "markdown",
      "metadata": {
        "id": "rYREf9e3zFDO",
        "colab_type": "text"
      },
      "source": [
        "#String to list conversion\n",
        "- \"1 2 3 4 5 6\"= [1,2,3,4,5,6]\n"
      ]
    },
    {
      "cell_type": "code",
      "metadata": {
        "id": "yYazf_px2ByM",
        "colab_type": "code",
        "outputId": "f3fb8e35-6e24-4ec0-ff17-9e445c0e84bf",
        "colab": {
          "base_uri": "https://localhost:8080/",
          "height": 34
        }
      },
      "source": [
        "s='Application 1 4 test working'\n",
        "li=s.split()\n",
        "print(li)"
      ],
      "execution_count": 0,
      "outputs": [
        {
          "output_type": "stream",
          "text": [
            "['Application', '1', '4', 'test', 'working']\n"
          ],
          "name": "stdout"
        }
      ]
    },
    {
      "cell_type": "code",
      "metadata": {
        "id": "FZn7QhB12Lsl",
        "colab_type": "code",
        "outputId": "7a15e552-84ba-4f77-916c-bcf17e592802",
        "colab": {
          "base_uri": "https://localhost:8080/",
          "height": 34
        }
      },
      "source": [
        "s1=\"Gitam Hyderabad Python Programming\"\n",
        "li=s1.split('a')\n",
        "print(li)"
      ],
      "execution_count": 0,
      "outputs": [
        {
          "output_type": "stream",
          "text": [
            "['Git', 'm Hyder', 'b', 'd Python Progr', 'mming']\n"
          ],
          "name": "stdout"
        }
      ]
    },
    {
      "cell_type": "code",
      "metadata": {
        "id": "12Nj8Bm9zsUy",
        "colab_type": "code",
        "outputId": "ac5222cb-3273-4629-dfa4-e711af5cea19",
        "colab": {
          "base_uri": "https://localhost:8080/",
          "height": 51
        }
      },
      "source": [
        "#define to convert string into list\n",
        "def stringToList(s):\n",
        "  li=s.split()    #divide string by white space    #['1','2','3','4','5','6']\n",
        "  numberList=[]\n",
        "  for i in li:\n",
        "    numberList.append(int(i))\n",
        "  return numberList\n",
        "s=input(\"enter the numbers\")\n",
        "stringToList(s)"
      ],
      "execution_count": 0,
      "outputs": [
        {
          "output_type": "stream",
          "text": [
            "enter the numbers1 2 3 4 5 6\n"
          ],
          "name": "stdout"
        },
        {
          "output_type": "execute_result",
          "data": {
            "text/plain": [
              "[1, 2, 3, 4, 5, 6]"
            ]
          },
          "metadata": {
            "tags": []
          },
          "execution_count": 159
        }
      ]
    },
    {
      "cell_type": "markdown",
      "metadata": {
        "id": "ovXEz5bz4OWF",
        "colab_type": "text"
      },
      "source": [
        ""
      ]
    }
  ]
}