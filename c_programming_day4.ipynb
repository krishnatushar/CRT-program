{
  "nbformat": 4,
  "nbformat_minor": 0,
  "metadata": {
    "colab": {
      "name": "c programming day4",
      "provenance": [],
      "include_colab_link": true
    },
    "kernelspec": {
      "name": "python3",
      "display_name": "Python 3"
    }
  },
  "cells": [
    {
      "cell_type": "markdown",
      "metadata": {
        "id": "view-in-github",
        "colab_type": "text"
      },
      "source": [
        "<a href=\"https://colab.research.google.com/github/krishnatushar/CRT-program/blob/master/c_programming_day4.ipynb\" target=\"_parent\"><img src=\"https://colab.research.google.com/assets/colab-badge.svg\" alt=\"Open In Colab\"/></a>"
      ]
    },
    {
      "cell_type": "code",
      "metadata": {
        "id": "xfzlf6BRoXVc",
        "colab_type": "code",
        "colab": {}
      },
      "source": [
        "//take two numbers as input and print first as square of second if greater\n",
        "#include<stdio.h>\n",
        "int main()\n",
        "{\n",
        "\tint x,y;\n",
        "\tscanf(\"%d%d\",&x,&y);\n",
        "\tif (x>y)\n",
        "\t{\n",
        "\t\tprintf(\"%d\",y*y);\n",
        "\t}\n",
        "\telse\n",
        "\t{\n",
        "\t\tprintf(\"%d\",x*x);\n",
        "\t}\n",
        "\treturn 0;\n",
        "}"
      ],
      "execution_count": 0,
      "outputs": []
    },
    {
      "cell_type": "code",
      "metadata": {
        "id": "Rw1ADu7FsSu1",
        "colab_type": "code",
        "colab": {}
      },
      "source": [
        "//read the input as age and print if the person is eligible for voting or not\n",
        "//eligible is age between 18 to 85\n",
        "#include<stdio.h>\n",
        "int main()\n",
        "{\n",
        "\tint age;\n",
        "\tprintf(\"enter the age\");\n",
        "\tscanf(\"%d\",&age);\n",
        "\tif (age>18 && age<85)\n",
        "\t{\n",
        "\t\tprintf(\"person is eligible\");\n",
        "\t}\n",
        "\telse\n",
        "\t{\n",
        "\t\tprintf(\"the person is not eligible\");\n",
        "\t}\n",
        "return 0;\n",
        "}"
      ],
      "execution_count": 0,
      "outputs": []
    },
    {
      "cell_type": "code",
      "metadata": {
        "id": "28XWtoLJxfF-",
        "colab_type": "code",
        "colab": {}
      },
      "source": [
        "/read the charecter as input and check it is upper case or lower case or digit\n",
        "#include<stdio.h>\n",
        "int main()\n",
        "{\n",
        "\tchar x;\n",
        "\tprintf(\"enter the input\");\n",
        "\tscanf(\"%c\",&x);\n",
        "\tif(x>=97 && x<=122)\n",
        "\t{\n",
        "\t\tprintf(\"the input is a lower case letter\");\n",
        "\t}\n",
        "\telse if(x>=65 && x<=90)\n",
        "\t{\n",
        "\t\tprintf(\"the input is an upper case letter\");\n",
        "\t}\n",
        "\telse if(x>=48 && x<=57)\n",
        "\t{\n",
        "\t\tprintf(\"the input is a digit\");\n",
        "\t}\n",
        "\treturn 0;\t\n",
        "}"
      ],
      "execution_count": 0,
      "outputs": []
    },
    {
      "cell_type": "code",
      "metadata": {
        "id": "AKusBGx9y2JN",
        "colab_type": "code",
        "colab": {}
      },
      "source": [
        "//find if the given letter is a vowel or consonant\n",
        "#include<stdio.h>\n",
        "int main()\n",
        "{\n",
        "\tchar x;\n",
        "\tprintf(\"enter the letter\");\n",
        "\tscanf(\"%c\",&x);\n",
        "\tif (x=='a'||x=='A'||x=='e'||x=='E'||x=='i'||x=='I'||x=='o'||x=='O'||x=='u'||x=='U')\n",
        "\t{\n",
        "\t\tprintf(\"the letter is a vowel\");\n",
        "\t}\n",
        "\telse\n",
        "\t{\n",
        "\t\tprintf(\"the letter is a consonant\");\n",
        "\t}\n",
        "\treturn 0;\n",
        "}"
      ],
      "execution_count": 0,
      "outputs": []
    },
    {
      "cell_type": "code",
      "metadata": {
        "id": "KNFIW2rp1tu1",
        "colab_type": "code",
        "colab": {}
      },
      "source": [
        "/read the number as input and check if it is perfectly divisible by 3 and 5 or not\n",
        "#include<stdio.h>\n",
        "#include<math.h>\n",
        "int main()\t\n",
        "{\n",
        "\tint x;\n",
        "\tprintf(\"enter the number\");\n",
        "\tscanf(\"%d\",&x);\n",
        "\tif (x%3==0 && x%5==0)\n",
        "\t{\n",
        "\t\tprintf(\"the number is divisible by 3 and 5\");\n",
        "\t}\n",
        "\telse \n",
        "\t{\n",
        "\t\tprintf(\"the number is not divisible by 3 and 5\");\n",
        "\t}\n",
        "\treturn 0;\n",
        "}"
      ],
      "execution_count": 0,
      "outputs": []
    },
    {
      "cell_type": "code",
      "metadata": {
        "id": "mOJAb4sp4ooY",
        "colab_type": "code",
        "colab": {}
      },
      "source": [
        "//read the input as week number and give the output as week name\n",
        "#include<stdio.h>\n",
        "int main()\n",
        "{\n",
        "\tint weeknumber;\n",
        "\tprintf(\"enter the number\");\n",
        "\tscanf(\"%d\",&weeknumber);\n",
        "\tswitch(weeknumber)\n",
        "\t{\n",
        "\t\tcase 1:\n",
        "\t\tprintf(\"sunday\");\n",
        "\t\tbreak;\n",
        "\t\tcase 2:\n",
        "\t\tprintf(\"monday\");\n",
        "\t\tbreak;\n",
        "\t\tcase 3 :\n",
        "\t\tprintf(\"tuesday\");\n",
        "\t\tbreak;\n",
        "\t\tcase 4 :\n",
        "\t\tprintf(\"wednesday\");\n",
        "\t\tbreak;\n",
        "\t\tcase 5 :\n",
        "\t\tprintf(\"thursday\");\n",
        "\t\tbreak;\n",
        "\t\tcase 6 :\n",
        "\t\tprintf(\"friday\");\n",
        "\t\tbreak;\n",
        "\t\tcase 7 :\n",
        "\t\tprintf(\"saturday\");\n",
        "\t\tbreak;\n",
        "\t\t}\n",
        "\t\treturn 0;\n",
        "}"
      ],
      "execution_count": 0,
      "outputs": []
    },
    {
      "cell_type": "code",
      "metadata": {
        "id": "y5V-eGFv8IZg",
        "colab_type": "code",
        "colab": {}
      },
      "source": [
        "//read three angles as input and check with these angles if they can construct a triangle or not \n",
        "#include<stdio.h>\n",
        "int main()\n",
        "{\n",
        "\tint a1,a2,a3;\n",
        "\tprintf(\"enter the angles\");\n",
        "\tscanf(\"%d%d%d\",&a1,&a2,&a3);\n",
        "\tif(a1!=0 && a2!=0 && a3!=0 && a1+a2+a3==180)\n",
        "\t{\n",
        "\t\tprintf(\"a triangle can be constructed\");\n",
        "\t}\n",
        "\telse\n",
        "\t{\n",
        "\t\tprintf(\"triangle cannot be constructed\" );\n",
        "\t}\n",
        "\treturn 0;\n",
        "}"
      ],
      "execution_count": 0,
      "outputs": []
    },
    {
      "cell_type": "code",
      "metadata": {
        "id": "WDYDwbtxBHQg",
        "colab_type": "code",
        "colab": {}
      },
      "source": [
        "//read the input n and print the output as sum of natural numbers from 1 to n\n",
        "#include<stdio.h>\n",
        "int main()\n",
        "{\n",
        "\tint n,i;\n",
        "\ti=1;\n",
        "\tprintf(\"enter value of n\");\n",
        "\tscanf(\"%d\",&n);\n",
        "\twhile(i<=n)\n",
        "\t{\n",
        "\t\tprintf(\"%d \",i);\n",
        "\t\ti=i+1;\n",
        "\t}\n",
        "\treturn 0;\n",
        "}"
      ],
      "execution_count": 0,
      "outputs": []
    },
    {
      "cell_type": "code",
      "metadata": {
        "id": "rocejuS1DaRo",
        "colab_type": "code",
        "colab": {}
      },
      "source": [
        "//read the number as input and print the sum of even numbers between 1 to n\n",
        "#include<stdio.h>\n",
        "int main()\n",
        "{\n",
        "\tint n,i,sum;\n",
        "\ti=1;\n",
        "\tsum=0;\n",
        "\tprintf(\"enter the number\");\n",
        "\tscanf(\"%d\",&n);\n",
        "\twhile(i<=n)\n",
        "\t{\n",
        "\t\tif (i%2==0)\n",
        "\t\t{\n",
        "\t\t\tsum=sum+i;\t\t\t\n",
        "\t\t}\n",
        "\t\ti++;\n",
        "\t}\n",
        "\tprintf(\"%d\",sum);\n",
        "\treturn 0;\n",
        "}"
      ],
      "execution_count": 0,
      "outputs": []
    },
    {
      "cell_type": "code",
      "metadata": {
        "id": "6UkYj-V4acy5",
        "colab_type": "code",
        "colab": {}
      },
      "source": [
        "//read input and print the output as perfectly divisible by 3 and 5\n",
        "#include<stdio.h>\n",
        "int main()\n",
        "{\n",
        "\tint i,x,y;\n",
        "\tprintf(\"enter the values\");\n",
        "\tscanf(\"%d%d\",&x,&y);\n",
        "\twhile(x<=y)\n",
        "\t{\n",
        "\t\tif(x%3==0 && x%5==0)\n",
        "\t\t{\n",
        "\t\t\tprintf(\"%d \",x);\n",
        "\t\t}\n",
        "\t\tx++;\n",
        "\t}\n",
        "\treturn 0;\t\n",
        "}"
      ],
      "execution_count": 0,
      "outputs": []
    },
    {
      "cell_type": "code",
      "metadata": {
        "id": "nyQYrlDPah0Y",
        "colab_type": "code",
        "colab": {}
      },
      "source": [
        "//read input and print output as digits of the number\n",
        "//test cases= 145= 5 4 1\n",
        "#include<stdio.h>\n",
        "int main()\n",
        "{\n",
        "\tint x,r=1;\n",
        "\tprintf(\"enter the number\");\n",
        "\tscanf(\"%d\",&x);\n",
        "\twhile(x!=0)\n",
        "\t{\n",
        "\t\tr=x%10;\n",
        "\t\tx=x/10;\n",
        "\t\tprintf(\"%d \",r);\n",
        "\t}\n",
        "\treturn 0;\n",
        "}"
      ],
      "execution_count": 0,
      "outputs": []
    },
    {
      "cell_type": "code",
      "metadata": {
        "id": "Nu6_jzrucT-u",
        "colab_type": "code",
        "colab": {}
      },
      "source": [
        "//take input and print the sum of even numbers\n",
        "#include<stdio.h>\n",
        "int main()\n",
        "{\n",
        "\tint x,r=0,sum=0;\n",
        "\tprintf(\"enter the number\");\n",
        "\tscanf(\"%d\",&x);\n",
        "\twhile(x!=0)\n",
        "\t{\n",
        "\t\tr=x%10;\n",
        "\t\tif (r%2==0)\n",
        "\t\t{\n",
        "\t\t\tsum=sum+r;\n",
        "\t\t}\n",
        "\t\tx=x/10;\n",
        "\t}\n",
        "\t\tprintf(\"%d\",sum);\n",
        "\treturn 0;\n",
        "}"
      ],
      "execution_count": 0,
      "outputs": []
    },
    {
      "cell_type": "code",
      "metadata": {
        "id": "wp_wK5wtewTz",
        "colab_type": "code",
        "colab": {}
      },
      "source": [
        "//read input and print output as digits of the number\n",
        "//test cases= 145= 5 4 1\n",
        "#include<stdio.h>\n",
        "int main()\n",
        "{\n",
        "\tint x,r=1;\n",
        "\tprintf(\"enter the number\");\n",
        "\tscanf(\"%d\",&x);\n",
        "\twhile(x!=0)\n",
        "\t{\n",
        "\t\tr=x%10;\n",
        "\t\tx=x/10;\n",
        "\t\tswitch(r)\n",
        "\t\t{\n",
        "\t\t\tcase 0:printf(\"zero \");\n",
        "\t\t\tbreak;\n",
        "\t\t\tcase 1:printf(\"one \");\n",
        "\t\t\tbreak;\n",
        "\t\t\tcase 2:printf(\"two \");\n",
        "\t\t\tbreak;\n",
        "\t\t\tcase 3:printf(\"three \");\n",
        "\t\t\tbreak;\n",
        "\t\t\tcase 4:printf(\"four \");\n",
        "\t\t\tbreak;\n",
        "\t\t\tcase 5:printf(\"five \");\n",
        "\t\t\tbreak;\n",
        "\t\t\tcase 6:printf(\"six \");\n",
        "\t\t\tbreak;\n",
        "\t\t\tcase 7:printf(\"seven \");\n",
        "\t\t\tbreak;\n",
        "\t\t\tcase 8:printf(\"eight \");\n",
        "\t\t\tbreak;\n",
        "\t\t\tcase 9:printf(\"nine \");\n",
        "\t\t\tbreak;\n",
        "\t\t}\n",
        "\t}\n",
        "\treturn 0;\n",
        "}"
      ],
      "execution_count": 0,
      "outputs": []
    },
    {
      "cell_type": "code",
      "metadata": {
        "id": "pL1jVGn2mq0n",
        "colab_type": "code",
        "colab": {}
      },
      "source": [
        "//read the input as number and print output as \n",
        "//test cases= 98254-<9,2>\n",
        "//            57415-<1,7>\n",
        "#include<stdio.h>\n",
        "int main()\n",
        "{\n",
        "\tint x,r,highest=0,least=9;\n",
        "\tprintf(\"enter the value\");\n",
        "\tscanf(\"%d\",&x);\n",
        "\twhile(x!=0)\n",
        "\t{\n",
        "\t\tr=x%10;\n",
        "\t\tif (highest<r)\n",
        "\t\t{\n",
        "\t\t\thighest=r;\n",
        "\t\t}\n",
        "\t\tif(least>r)\n",
        "\t\t{\n",
        "\t\t\tleast=r;\n",
        "\t\t}\n",
        "\t\tx/=10;\n",
        "\t}\n",
        "\tprintf(\"<%d,%d>\",least,highest);\n",
        "\treturn 0;\n",
        "}"
      ],
      "execution_count": 0,
      "outputs": []
    },
    {
      "cell_type": "code",
      "metadata": {
        "id": "lUCe5F-drx0g",
        "colab_type": "code",
        "colab": {}
      },
      "source": [
        "//read an input and give the output as follows\n",
        "//1889=5\n",
        "//666=3\n",
        "//4756=3\n",
        "//1591=1\n",
        "#include<stdio.h>\n",
        "int main()\n",
        "{\n",
        "\tint x,r=1,s=0;\n",
        "\tprintf(\"enter the number\");\n",
        "\tscanf(\"%d\",&x);\n",
        "\twhile(x!=0)\n",
        "\t{\n",
        "\t\tr=x%10;\n",
        "\t\tif(r==8){\n",
        "\t\t\ts+=2;\n",
        "\t\t}\n",
        "\t\telse if(r==0||r==6||r==9){\n",
        "\t\t\ts+=1;\n",
        "\t\t}\n",
        "\t\telse if(r==4){\n",
        "\t\t\ts+=2;\n",
        "\t\t}\n",
        "\t\tx/=10;\n",
        "\t}\n",
        "\tprintf(\"%d\",s);\n",
        "\treturn 0;\n",
        "}"
      ],
      "execution_count": 0,
      "outputs": []
    },
    {
      "cell_type": "code",
      "metadata": {
        "id": "A_RqVOWCutaX",
        "colab_type": "code",
        "colab": {}
      },
      "source": [
        "//read an input and tell whether output is palindrome or not\n",
        "//141=palindrome\n",
        "#include<stdio.h>\n",
        "int main()\n",
        "{\n",
        "\tint x,r,p;\n",
        "\tprintf(\"enter the number\");\n",
        "\tscanf(\"%d\",&x);\n",
        "\twhile(x!=0)\n",
        "\t{\n",
        "\t\tr=x%10;\n",
        "\t\tx=x/10;\n",
        "\t}\n",
        "\tx=p;\n",
        "\tif(r==p)\n",
        "\t{\n",
        "\t\tprintf(\"the number is a palindriome\");\n",
        "\t}\n",
        "\telse\n",
        "\t{\n",
        "\t\tprintf(\"the number is not a palindrome\");\n",
        "\t}\n",
        "\treturn 0;\n",
        "}"
      ],
      "execution_count": 0,
      "outputs": []
    }
  ]
}